{
 "cells": [
  {
   "cell_type": "markdown",
   "id": "f500aad7-2d10-490c-84fd-f97d94fd5019",
   "metadata": {},
   "source": [
    "# Variables\n",
    "#### A Python variable is a reserved memory location to store values.\n",
    "#### A variable is created the moment you first assign a value to it."
   ]
  },
  {
   "cell_type": "code",
   "execution_count": 1,
   "id": "4709bbcf-d969-4ec2-afb1-f23dd755f316",
   "metadata": {},
   "outputs": [],
   "source": [
    "p = 30"
   ]
  },
  {
   "cell_type": "code",
   "execution_count": 2,
   "id": "97755084-32f8-4a79-bb10-5720270715ab",
   "metadata": {},
   "outputs": [
    {
     "data": {
      "text/plain": [
       "140135462028432"
      ]
     },
     "execution_count": 2,
     "metadata": {},
     "output_type": "execute_result"
    }
   ],
   "source": [
    "'''\n",
    "id() function returns the “identity” of the object.\n",
    "The identity of an object - Is an integer\n",
    " - Guaranteed to be unique\n",
    " - Constant for this object during its lifetime.\n",
    "'''\n",
    "id(p)\n"
   ]
  },
  {
   "cell_type": "code",
   "execution_count": 3,
   "id": "b4a3caa9-21cd-4ba7-99fd-a7f8f5aaefd5",
   "metadata": {},
   "outputs": [
    {
     "data": {
      "text/plain": [
       "'0x7f73d46f4490'"
      ]
     },
     "execution_count": 3,
     "metadata": {},
     "output_type": "execute_result"
    }
   ],
   "source": [
    "hex(id(p)) # Memory address of the variable"
   ]
  },
  {
   "cell_type": "code",
   "execution_count": 4,
   "id": "a3977410-9800-46a9-aa5d-108b537ccbf4",
   "metadata": {},
   "outputs": [
    {
     "data": {
      "text/plain": [
       "(20, int, '0x7f73d46f4350')"
      ]
     },
     "execution_count": 4,
     "metadata": {},
     "output_type": "execute_result"
    }
   ],
   "source": [
    "p = 20\n",
    "q = 20\n",
    "r = q\n",
    "p, type(p), hex(id(q))\n"
   ]
  },
  {
   "cell_type": "code",
   "execution_count": 5,
   "id": "7d7813a3-ba45-48cd-8b0c-2b38291ba9e4",
   "metadata": {},
   "outputs": [
    {
     "data": {
      "text/plain": [
       "(20, int, '0x7f73d46f4350')"
      ]
     },
     "execution_count": 5,
     "metadata": {},
     "output_type": "execute_result"
    }
   ],
   "source": [
    "q, type(q), hex(id(q))"
   ]
  },
  {
   "cell_type": "code",
   "execution_count": 6,
   "id": "08ffdfdc-f4d3-4730-9a37-01481c05676f",
   "metadata": {},
   "outputs": [
    {
     "data": {
      "text/plain": [
       "(20, int, '0x7f73d46f4350')"
      ]
     },
     "execution_count": 6,
     "metadata": {},
     "output_type": "execute_result"
    }
   ],
   "source": [
    "r, type(r), hex(id(r))"
   ]
  },
  {
   "attachments": {
    "52d5d80f-ead3-49c4-b991-641d1c9b500f.png": {
     "image/png": "[encoded data removed]"
    }
   },
   "cell_type": "markdown",
   "id": "3790d1ef-f2fc-49f3-bebb-1fa0d26bc51d",
   "metadata": {},
   "source": [
    "![image1.png](attachment:52d5d80f-ead3-49c4-b991-641d1c9b500f.png)"
   ]
  },
  {
   "cell_type": "markdown",
   "id": "cf5de115-86f8-4040-860c-b17cc61d59b8",
   "metadata": {},
   "source": [
    "# Variable Assignment"
   ]
  },
  {
   "cell_type": "code",
   "execution_count": 7,
   "id": "859e4998-8d09-47a8-bd5d-4d7b3981e712",
   "metadata": {},
   "outputs": [
    {
     "name": "stdout",
     "output_type": "stream",
     "text": [
      "10\n",
      "2.57\n",
      "Python Language\n"
     ]
    }
   ],
   "source": [
    "intvar = 10 # Integer variable\n",
    "floatvar = 2.57 # Float Variable\n",
    "strvar = \"Python Language\" # String variable\n",
    "print(intvar)\n",
    "print(floatvar)\n",
    "print(strvar)"
   ]
  },
  {
   "cell_type": "markdown",
   "id": "3cf7ccac-bf00-4601-8b41-07b7d3cd1df8",
   "metadata": {},
   "source": [
    "# Multiple Assignments"
   ]
  },
  {
   "cell_type": "code",
   "execution_count": 8,
   "id": "b9e125e8-ce73-4557-a2b4-8172f4f3dfe9",
   "metadata": {},
   "outputs": [
    {
     "name": "stdout",
     "output_type": "stream",
     "text": [
      "10\n",
      "2.57\n",
      "Python Language\n"
     ]
    }
   ],
   "source": [
    "intvar , floatvar , strvar = 10,2.57,\"Python Language\" # Using commas to separate\n",
    "print(intvar)\n",
    "print(floatvar)\n",
    "print(strvar)"
   ]
  },
  {
   "cell_type": "code",
   "execution_count": 9,
   "id": "63acd0c1-da78-4d3b-92da-bf1c0d3e9840",
   "metadata": {},
   "outputs": [
    {
     "name": "stdout",
     "output_type": "stream",
     "text": [
      "44 44 44 44\n"
     ]
    }
   ],
   "source": [
    "p1 = p2 = p3 = p4 = 44 # All variables pointing to same value\n",
    "print(p1,p2,p3,p4)\n"
   ]
  },
  {
   "cell_type": "code",
   "execution_count": null,
   "id": "9cfa73b0-740b-4758-a814-f22b12d72de5",
   "metadata": {},
   "outputs": [],
   "source": []
  }
 ],
 "metadata": {
  "kernelspec": {
   "display_name": "Python 3 (ipykernel)",
   "language": "python",
   "name": "python3"
  },
  "language_info": {
   "codemirror_mode": {
    "name": "ipython",
    "version": 3
   },
   "file_extension": ".py",
   "mimetype": "text/x-python",
   "name": "python",
   "nbconvert_exporter": "python",
   "pygments_lexer": "ipython3",
   "version": "3.10.6"
  }
 },
 "nbformat": 4,
 "nbformat_minor": 5
}
